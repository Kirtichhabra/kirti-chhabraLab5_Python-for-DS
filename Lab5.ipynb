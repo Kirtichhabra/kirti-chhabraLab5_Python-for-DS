{
 "cells": [
  {
   "cell_type": "raw",
   "id": "266f3d27-c8fc-4296-93d2-2bc695c77186",
   "metadata": {},
   "source": [
    "** Q1. Import required libraries**"
   ]
  },
  {
   "cell_type": "code",
   "execution_count": 3,
   "id": "8dad64a6-614d-402a-81ae-9ce3798b6c76",
   "metadata": {},
   "outputs": [],
   "source": [
    "import pandas as pd\n",
    "import numpy as np\n",
    "import matplotlib.pyplot as plt\n",
    "import seaborn as sns "
   ]
  },
  {
   "cell_type": "markdown",
   "id": "6cf7c206-8d07-464a-9f1e-2ee643cd5ab8",
   "metadata": {},
   "source": [
    "** Q2. Load the dataset **"
   ]
  },
  {
   "cell_type": "code",
   "execution_count": 4,
   "id": "40a9e124-00c7-4909-be81-7a80e59362c7",
   "metadata": {},
   "outputs": [],
   "source": [
    "df = pd.read_csv(\"C:/Users/Testbook/Downloads/car+data.csv\")"
   ]
  },
  {
   "cell_type": "markdown",
   "id": "f798263b-63b5-4f1a-9bf8-a78151d37033",
   "metadata": {},
   "source": [
    "**3. Check the shape and basic information of the dataset.**"
   ]
  },
  {
   "cell_type": "code",
   "execution_count": 5,
   "id": "b11e8b1d-3323-4c46-a08c-de3e4948422c",
   "metadata": {},
   "outputs": [
    {
     "data": {
      "text/plain": [
       "(301, 9)"
      ]
     },
     "execution_count": 5,
     "metadata": {},
     "output_type": "execute_result"
    }
   ],
   "source": [
    "df.shape"
   ]
  },
  {
   "cell_type": "code",
   "execution_count": 6,
   "id": "cb1dbfda-8fc8-4858-81b1-0a5828b5fc6c",
   "metadata": {},
   "outputs": [
    {
     "data": {
      "text/plain": [
       "<bound method DataFrame.info of     Car_Name  Year  Selling_Price  Present_Price  Kms_Driven Fuel_Type  \\\n",
       "0       ritz  2014           3.35           5.59       27000    Petrol   \n",
       "1        sx4  2013           4.75           9.54       43000    Diesel   \n",
       "2       ciaz  2017           7.25           9.85        6900    Petrol   \n",
       "3    wagon r  2011           2.85           4.15        5200    Petrol   \n",
       "4      swift  2014           4.60           6.87       42450    Diesel   \n",
       "..       ...   ...            ...            ...         ...       ...   \n",
       "296     city  2016           9.50          11.60       33988    Diesel   \n",
       "297     brio  2015           4.00           5.90       60000    Petrol   \n",
       "298     city  2009           3.35          11.00       87934    Petrol   \n",
       "299     city  2017          11.50          12.50        9000    Diesel   \n",
       "300     brio  2016           5.30           5.90        5464    Petrol   \n",
       "\n",
       "    Seller_Type Transmission  Owner  \n",
       "0        Dealer       Manual      0  \n",
       "1        Dealer       Manual      0  \n",
       "2        Dealer       Manual      0  \n",
       "3        Dealer       Manual      0  \n",
       "4        Dealer       Manual      0  \n",
       "..          ...          ...    ...  \n",
       "296      Dealer       Manual      0  \n",
       "297      Dealer       Manual      0  \n",
       "298      Dealer       Manual      0  \n",
       "299      Dealer       Manual      0  \n",
       "300      Dealer       Manual      0  \n",
       "\n",
       "[301 rows x 9 columns]>"
      ]
     },
     "execution_count": 6,
     "metadata": {},
     "output_type": "execute_result"
    }
   ],
   "source": [
    "df.info"
   ]
  },
  {
   "cell_type": "markdown",
   "id": "5352351e-29cc-4f62-8401-677d4bdfe6c0",
   "metadata": {},
   "source": [
    "**Q 4. Check for the presence of the duplicate records in the dataset? If present drop them**"
   ]
  },
  {
   "cell_type": "code",
   "execution_count": 9,
   "id": "288e2735-b442-431e-b339-5cbea78662bd",
   "metadata": {},
   "outputs": [
    {
     "name": "stdout",
     "output_type": "stream",
     "text": [
      "0      False\n",
      "1      False\n",
      "2      False\n",
      "3      False\n",
      "4      False\n",
      "       ...  \n",
      "296    False\n",
      "297    False\n",
      "298    False\n",
      "299    False\n",
      "300    False\n",
      "Length: 301, dtype: bool\n"
     ]
    },
    {
     "data": {
      "text/plain": [
       "2"
      ]
     },
     "execution_count": 9,
     "metadata": {},
     "output_type": "execute_result"
    }
   ],
   "source": [
    "duplicates = df.duplicated()\n",
    "print(duplicates)\n",
    "len(df[df.duplicated()])"
   ]
  },
  {
   "cell_type": "markdown",
   "id": "0059030b-19d7-4408-b121-05329f7218c7",
   "metadata": {},
   "source": [
    "**Q5. Drop the columns which you think redundant for the analysis.**"
   ]
  },
  {
   "cell_type": "code",
   "execution_count": 10,
   "id": "40b886c1-3b58-414a-bfae-2efd1b79ef20",
   "metadata": {},
   "outputs": [],
   "source": [
    "df = df.drop(columns=['Car_Name'])\n"
   ]
  },
  {
   "cell_type": "markdown",
   "id": "33ccffbb-c24b-45a9-9b15-e784f7bc168e",
   "metadata": {},
   "source": [
    "**Q 6. Extract a new feature called 'age_of_the_car' from the feature 'year' and drop the feature year**"
   ]
  },
  {
   "cell_type": "code",
   "execution_count": 14,
   "id": "b1a58f3e-159d-4189-8fb2-1f2d24592458",
   "metadata": {},
   "outputs": [],
   "source": [
    "import pandas as pd\n",
    "from datetime import datetime\n",
    "\n",
    "# Assuming df is your DataFrame and it has a column named 'year'\n",
    "\n",
    "# Step 1: Calculate the current year\n",
    "current_year = datetime.now().year\n",
    "\n",
    "# Step 2: Compute the 'age_of_the_car' feature\n",
    "df['age_of_the_car'] = current_year - df['Year']\n",
    "\n",
    "# Step 3: Drop the 'year' feature\n",
    "df = df.drop(columns=['Year'])\n"
   ]
  },
  {
   "cell_type": "code",
   "execution_count": 15,
   "id": "6535a3da-92cc-4d99-b980-e2ece8137e2f",
   "metadata": {},
   "outputs": [
    {
     "data": {
      "text/plain": [
       "0    10\n",
       "1    11\n",
       "2     7\n",
       "3    13\n",
       "4    10\n",
       "Name: age_of_the_car, dtype: int64"
      ]
     },
     "execution_count": 15,
     "metadata": {},
     "output_type": "execute_result"
    }
   ],
   "source": [
    "df['age_of_the_car'].head()"
   ]
  },
  {
   "cell_type": "markdown",
   "id": "0134f584-ea8e-4c01-944e-c9628bd33d93",
   "metadata": {},
   "source": [
    "**Q 7. Encode the categorical columns**"
   ]
  },
  {
   "cell_type": "code",
   "execution_count": 16,
   "id": "9c9f6e4b-49d1-47dc-8e14-0b74bd3c9d70",
   "metadata": {},
   "outputs": [
    {
     "name": "stdout",
     "output_type": "stream",
     "text": [
      "     Selling_Price  Present_Price  Kms_Driven  Fuel_Type  Seller_Type  \\\n",
      "0             3.35           5.59       27000          2            0   \n",
      "1             4.75           9.54       43000          1            0   \n",
      "2             7.25           9.85        6900          2            0   \n",
      "3             2.85           4.15        5200          2            0   \n",
      "4             4.60           6.87       42450          1            0   \n",
      "..             ...            ...         ...        ...          ...   \n",
      "296           9.50          11.60       33988          1            0   \n",
      "297           4.00           5.90       60000          2            0   \n",
      "298           3.35          11.00       87934          2            0   \n",
      "299          11.50          12.50        9000          1            0   \n",
      "300           5.30           5.90        5464          2            0   \n",
      "\n",
      "     Transmission  Owner  age_of_the_car  \n",
      "0               1      0              10  \n",
      "1               1      0              11  \n",
      "2               1      0               7  \n",
      "3               1      0              13  \n",
      "4               1      0              10  \n",
      "..            ...    ...             ...  \n",
      "296             1      0               8  \n",
      "297             1      0               9  \n",
      "298             1      0              15  \n",
      "299             1      0               7  \n",
      "300             1      0               8  \n",
      "\n",
      "[301 rows x 8 columns]\n"
     ]
    }
   ],
   "source": [
    "import pandas as pd\n",
    "from sklearn.preprocessing import LabelEncoder\n",
    "df = pd.DataFrame(df)\n",
    "\n",
    "# Ensure categorical columns are of type string (if not already)\n",
    "df['Fuel_Type'] = df['Fuel_Type'].astype(str)\n",
    "df['Seller_Type'] = df['Seller_Type'].astype(str)\n",
    "df['Transmission'] = df['Transmission'].astype(str)\n",
    "\n",
    "# Initialize LabelEncoder\n",
    "lbl_encode = LabelEncoder()\n",
    "\n",
    "# List of categorical columns to encode\n",
    "cate = ['Fuel_Type', 'Seller_Type','Transmission']\n",
    "\n",
    "# Apply LabelEncoder to each column\n",
    "for col in cate:\n",
    "    df[col] = lbl_encode.fit_transform(df[col])\n",
    "\n",
    "print(df)"
   ]
  },
  {
   "cell_type": "markdown",
   "id": "ae089a3a-5ba4-4b09-9868-e50602292c58",
   "metadata": {},
   "source": [
    "**Q8. Separate the target and independent features.**"
   ]
  },
  {
   "cell_type": "code",
   "execution_count": 17,
   "id": "ddac9c2c-ecee-4215-9c74-929d59ab524e",
   "metadata": {},
   "outputs": [],
   "source": [
    "# Separate the target variable\n",
    "y = df['Selling_Price']\n",
    "\n",
    "# Separate the independent features\n",
    "X = df.drop('Selling_Price', axis=1)\n"
   ]
  },
  {
   "cell_type": "code",
   "execution_count": 19,
   "id": "92107761-44fe-4748-bc51-bd85a2004f06",
   "metadata": {},
   "outputs": [
    {
     "data": {
      "text/html": [
       "<div>\n",
       "<style scoped>\n",
       "    .dataframe tbody tr th:only-of-type {\n",
       "        vertical-align: middle;\n",
       "    }\n",
       "\n",
       "    .dataframe tbody tr th {\n",
       "        vertical-align: top;\n",
       "    }\n",
       "\n",
       "    .dataframe thead th {\n",
       "        text-align: right;\n",
       "    }\n",
       "</style>\n",
       "<table border=\"1\" class=\"dataframe\">\n",
       "  <thead>\n",
       "    <tr style=\"text-align: right;\">\n",
       "      <th></th>\n",
       "      <th>Present_Price</th>\n",
       "      <th>Kms_Driven</th>\n",
       "      <th>Fuel_Type</th>\n",
       "      <th>Seller_Type</th>\n",
       "      <th>Transmission</th>\n",
       "      <th>Owner</th>\n",
       "      <th>age_of_the_car</th>\n",
       "    </tr>\n",
       "  </thead>\n",
       "  <tbody>\n",
       "    <tr>\n",
       "      <th>0</th>\n",
       "      <td>5.59</td>\n",
       "      <td>27000</td>\n",
       "      <td>2</td>\n",
       "      <td>0</td>\n",
       "      <td>1</td>\n",
       "      <td>0</td>\n",
       "      <td>10</td>\n",
       "    </tr>\n",
       "    <tr>\n",
       "      <th>1</th>\n",
       "      <td>9.54</td>\n",
       "      <td>43000</td>\n",
       "      <td>1</td>\n",
       "      <td>0</td>\n",
       "      <td>1</td>\n",
       "      <td>0</td>\n",
       "      <td>11</td>\n",
       "    </tr>\n",
       "    <tr>\n",
       "      <th>2</th>\n",
       "      <td>9.85</td>\n",
       "      <td>6900</td>\n",
       "      <td>2</td>\n",
       "      <td>0</td>\n",
       "      <td>1</td>\n",
       "      <td>0</td>\n",
       "      <td>7</td>\n",
       "    </tr>\n",
       "    <tr>\n",
       "      <th>3</th>\n",
       "      <td>4.15</td>\n",
       "      <td>5200</td>\n",
       "      <td>2</td>\n",
       "      <td>0</td>\n",
       "      <td>1</td>\n",
       "      <td>0</td>\n",
       "      <td>13</td>\n",
       "    </tr>\n",
       "    <tr>\n",
       "      <th>4</th>\n",
       "      <td>6.87</td>\n",
       "      <td>42450</td>\n",
       "      <td>1</td>\n",
       "      <td>0</td>\n",
       "      <td>1</td>\n",
       "      <td>0</td>\n",
       "      <td>10</td>\n",
       "    </tr>\n",
       "  </tbody>\n",
       "</table>\n",
       "</div>"
      ],
      "text/plain": [
       "   Present_Price  Kms_Driven  Fuel_Type  Seller_Type  Transmission  Owner  \\\n",
       "0           5.59       27000          2            0             1      0   \n",
       "1           9.54       43000          1            0             1      0   \n",
       "2           9.85        6900          2            0             1      0   \n",
       "3           4.15        5200          2            0             1      0   \n",
       "4           6.87       42450          1            0             1      0   \n",
       "\n",
       "   age_of_the_car  \n",
       "0              10  \n",
       "1              11  \n",
       "2               7  \n",
       "3              13  \n",
       "4              10  "
      ]
     },
     "execution_count": 19,
     "metadata": {},
     "output_type": "execute_result"
    }
   ],
   "source": [
    "X.head()"
   ]
  },
  {
   "cell_type": "markdown",
   "id": "62df10ee-f178-4f1a-a66f-7e75a4a208bc",
   "metadata": {},
   "source": [
    "**Q 9. Split the data into train and test.**"
   ]
  },
  {
   "cell_type": "code",
   "execution_count": 20,
   "id": "073a197a-d57d-44c3-8a58-087c9e718e9a",
   "metadata": {},
   "outputs": [
    {
     "name": "stdout",
     "output_type": "stream",
     "text": [
      "X_train shape: (240, 7)\n",
      "X_test shape: (61, 7)\n",
      "y_train shape: (240,)\n",
      "y_test shape: (61,)\n"
     ]
    }
   ],
   "source": [
    "# Import necessary libraries\n",
    "from sklearn.model_selection import train_test_split\n",
    "\n",
    "# Separate the target and independent features (assuming the previous step)\n",
    "y = df['Selling_Price']\n",
    "X = df.drop('Selling_Price', axis=1)\n",
    "\n",
    "# Split the data into training and testing sets\n",
    "X_train, X_test, y_train, y_test = train_test_split(X, y, test_size=0.2, random_state=42)\n",
    "\n",
    "# Display the shape of the training and testing sets\n",
    "print(\"X_train shape:\", X_train.shape)\n",
    "print(\"X_test shape:\", X_test.shape)\n",
    "print(\"y_train shape:\", y_train.shape)\n",
    "print(\"y_test shape:\", y_test.shape)\n"
   ]
  },
  {
   "cell_type": "markdown",
   "id": "631fd316-5177-4383-a099-2e619c715ae5",
   "metadata": {},
   "source": [
    "** Q10. Build a Random forest Regressor model and check the r2-score for train and test.**"
   ]
  },
  {
   "cell_type": "code",
   "execution_count": 21,
   "id": "a1e70d5d-d391-454e-a728-3e94ca939db4",
   "metadata": {},
   "outputs": [
    {
     "name": "stdout",
     "output_type": "stream",
     "text": [
      "R² score for training data: 0.984841908526253\n",
      "R² score for testing data: 0.959315188851573\n"
     ]
    }
   ],
   "source": [
    "# Import necessary libraries\n",
    "from sklearn.ensemble import RandomForestRegressor\n",
    "from sklearn.metrics import r2_score\n",
    "\n",
    "# Build the Random Forest Regressor model\n",
    "rf_model = RandomForestRegressor(n_estimators=100, random_state=42)\n",
    "\n",
    "# Train the model on the training data\n",
    "rf_model.fit(X_train, y_train)\n",
    "\n",
    "# Predict on the training data\n",
    "y_train_pred = rf_model.predict(X_train)\n",
    "\n",
    "# Predict on the testing data\n",
    "y_test_pred = rf_model.predict(X_test)\n",
    "\n",
    "# Calculate the R² score for the training data\n",
    "r2_train = r2_score(y_train, y_train_pred)\n",
    "\n",
    "# Calculate the R² score for the testing data\n",
    "r2_test = r2_score(y_test, y_test_pred)\n",
    "\n",
    "# Display the R² scores\n",
    "print(\"R² score for training data:\", r2_train)\n",
    "print(\"R² score for testing data:\", r2_test)\n"
   ]
  },
  {
   "cell_type": "markdown",
   "id": "150420f7-5840-43d2-910b-c1304315eb3a",
   "metadata": {},
   "source": [
    "**Q 11. Create a pickle file with an extension as .pkl**"
   ]
  },
  {
   "cell_type": "code",
   "execution_count": 22,
   "id": "b817f4f8-9eb3-498d-bff0-0704ec82fc5d",
   "metadata": {},
   "outputs": [
    {
     "name": "stdout",
     "output_type": "stream",
     "text": [
      "Model has been saved to random_forest_model.pkl\n"
     ]
    }
   ],
   "source": [
    "# Import the pickle library\n",
    "import pickle\n",
    "\n",
    "# Define the filename for the pickle file\n",
    "filename = 'random_forest_model.pkl'\n",
    "\n",
    "# Create the pickle file and save the trained model\n",
    "with open(filename, 'wb') as file:\n",
    "    pickle.dump(rf_model, file)\n",
    "\n",
    "print(f\"Model has been saved to {filename}\")\n"
   ]
  },
  {
   "cell_type": "code",
   "execution_count": null,
   "id": "164dd0ae-e798-4489-b784-5b9ca2e51ea9",
   "metadata": {},
   "outputs": [],
   "source": []
  }
 ],
 "metadata": {
  "kernelspec": {
   "display_name": "Python 3 (ipykernel)",
   "language": "python",
   "name": "python3"
  },
  "language_info": {
   "codemirror_mode": {
    "name": "ipython",
    "version": 3
   },
   "file_extension": ".py",
   "mimetype": "text/x-python",
   "name": "python",
   "nbconvert_exporter": "python",
   "pygments_lexer": "ipython3",
   "version": "3.11.7"
  }
 },
 "nbformat": 4,
 "nbformat_minor": 5
}
